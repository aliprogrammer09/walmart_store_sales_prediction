{
 "cells": [
  {
   "cell_type": "code",
   "execution_count": 2,
   "id": "10fdc490",
   "metadata": {},
   "outputs": [],
   "source": [
    "import pandas as pd\n",
    "import matplotlib.pyplot as plt\n",
    "import seaborn as sns"
   ]
  },
  {
   "cell_type": "code",
   "execution_count": 7,
   "id": "b081ce6a",
   "metadata": {},
   "outputs": [],
   "source": [
    "df = pd.read_csv(\"data/Walmart.csv\")"
   ]
  },
  {
   "cell_type": "code",
   "execution_count": 11,
   "id": "d42747b4",
   "metadata": {},
   "outputs": [
    {
     "data": {
      "application/vnd.microsoft.datawrangler.viewer.v0+json": {
       "columns": [
        {
         "name": "index",
         "rawType": "int64",
         "type": "integer"
        },
        {
         "name": "Store",
         "rawType": "int64",
         "type": "integer"
        },
        {
         "name": "Weekly_Sales",
         "rawType": "float64",
         "type": "float"
        },
        {
         "name": "Holiday_Flag",
         "rawType": "int64",
         "type": "integer"
        },
        {
         "name": "Temperature",
         "rawType": "float64",
         "type": "float"
        },
        {
         "name": "Fuel_Price",
         "rawType": "float64",
         "type": "float"
        },
        {
         "name": "CPI",
         "rawType": "float64",
         "type": "float"
        },
        {
         "name": "Unemployment",
         "rawType": "float64",
         "type": "float"
        }
       ],
       "ref": "e8ff0e53-d176-42e3-98eb-dc8ee28e7fe1",
       "rows": [
        [
         "0",
         "1",
         "1643690.9",
         "0",
         "42.31",
         "2.572",
         "211.0963582",
         "8.106"
        ],
        [
         "1",
         "1",
         "1641957.44",
         "1",
         "38.51",
         "2.548",
         "211.2421698",
         "8.106"
        ],
        [
         "2",
         "1",
         "1611968.17",
         "0",
         "39.93",
         "2.514",
         "211.2891429",
         "8.106"
        ],
        [
         "3",
         "1",
         "1409727.59",
         "0",
         "46.63",
         "2.561",
         "211.3196429",
         "8.106"
        ],
        [
         "4",
         "1",
         "1554806.68",
         "0",
         "46.5",
         "2.625",
         "211.3501429",
         "8.106"
        ],
        [
         "5",
         "1",
         "1439541.59",
         "0",
         "57.79",
         "2.667",
         "211.3806429",
         "8.106"
        ],
        [
         "6",
         "1",
         "1472515.79",
         "0",
         "54.58",
         "2.72",
         "211.215635",
         "8.106"
        ],
        [
         "7",
         "1",
         "1404429.92",
         "0",
         "51.45",
         "2.732",
         "211.0180424",
         "8.106"
        ],
        [
         "8",
         "1",
         "1594968.28",
         "0",
         "62.27",
         "2.719",
         "210.8204499",
         "7.808"
        ],
        [
         "9",
         "1",
         "1545418.53",
         "0",
         "65.86",
         "2.77",
         "210.6228574",
         "7.808"
        ],
        [
         "10",
         "1",
         "1466058.28",
         "0",
         "66.32",
         "2.808",
         "210.4887",
         "7.808"
        ],
        [
         "11",
         "1",
         "1391256.12",
         "0",
         "64.84",
         "2.795",
         "210.4391228",
         "7.808"
        ],
        [
         "12",
         "1",
         "1425100.71",
         "0",
         "67.41",
         "2.78",
         "210.3895456",
         "7.808"
        ],
        [
         "13",
         "1",
         "1603955.12",
         "0",
         "72.55",
         "2.835",
         "210.3399684",
         "7.808"
        ],
        [
         "14",
         "1",
         "1494251.5",
         "0",
         "74.78",
         "2.854",
         "210.3374261",
         "7.808"
        ],
        [
         "15",
         "1",
         "1399662.07",
         "0",
         "76.44",
         "2.826",
         "210.6170934",
         "7.808"
        ],
        [
         "16",
         "1",
         "1432069.95",
         "0",
         "80.44",
         "2.759",
         "210.8967606",
         "7.808"
        ],
        [
         "17",
         "1",
         "1615524.71",
         "0",
         "80.69",
         "2.705",
         "211.1764278",
         "7.808"
        ],
        [
         "18",
         "1",
         "1542561.09",
         "0",
         "80.43",
         "2.668",
         "211.4560951",
         "7.808"
        ],
        [
         "19",
         "1",
         "1503284.06",
         "0",
         "84.11",
         "2.637",
         "211.4537719",
         "7.808"
        ],
        [
         "20",
         "1",
         "1422711.6",
         "0",
         "84.34",
         "2.653",
         "211.3386526",
         "7.808"
        ],
        [
         "21",
         "1",
         "1492418.14",
         "0",
         "80.91",
         "2.669",
         "211.2235333",
         "7.787"
        ],
        [
         "22",
         "1",
         "1546074.18",
         "0",
         "80.48",
         "2.642",
         "211.108414",
         "7.787"
        ],
        [
         "23",
         "1",
         "1448938.92",
         "0",
         "83.15",
         "2.623",
         "211.1003854",
         "7.787"
        ],
        [
         "24",
         "1",
         "1385065.2",
         "0",
         "83.36",
         "2.608",
         "211.2351443",
         "7.787"
        ],
        [
         "25",
         "1",
         "1371986.6",
         "0",
         "81.84",
         "2.64",
         "211.3699032",
         "7.787"
        ],
        [
         "26",
         "1",
         "1605491.78",
         "0",
         "87.16",
         "2.627",
         "211.5046621",
         "7.787"
        ],
        [
         "27",
         "1",
         "1508237.76",
         "0",
         "87.0",
         "2.692",
         "211.6394211",
         "7.787"
        ],
        [
         "28",
         "1",
         "1513080.49",
         "0",
         "86.65",
         "2.664",
         "211.6033633",
         "7.787"
        ],
        [
         "29",
         "1",
         "1449142.92",
         "0",
         "85.22",
         "2.619",
         "211.5673056",
         "7.787"
        ],
        [
         "30",
         "1",
         "1540163.53",
         "0",
         "81.21",
         "2.577",
         "211.5312479",
         "7.787"
        ],
        [
         "31",
         "1",
         "1507460.69",
         "1",
         "78.69",
         "2.565",
         "211.4951902",
         "7.787"
        ],
        [
         "32",
         "1",
         "1430378.67",
         "0",
         "82.11",
         "2.582",
         "211.5224596",
         "7.787"
        ],
        [
         "33",
         "1",
         "1351791.03",
         "0",
         "80.94",
         "2.624",
         "211.5972246",
         "7.787"
        ],
        [
         "34",
         "1",
         "1453329.5",
         "0",
         "71.89",
         "2.603",
         "211.6719895",
         "7.838"
        ],
        [
         "35",
         "1",
         "1508239.93",
         "0",
         "63.93",
         "2.633",
         "211.7467544",
         "7.838"
        ],
        [
         "36",
         "1",
         "1459409.1",
         "0",
         "67.18",
         "2.72",
         "211.8137436",
         "7.838"
        ],
        [
         "37",
         "1",
         "1345454.0",
         "0",
         "69.86",
         "2.725",
         "211.8612937",
         "7.838"
        ],
        [
         "38",
         "1",
         "1384209.22",
         "0",
         "69.64",
         "2.716",
         "211.9088438",
         "7.838"
        ],
        [
         "39",
         "1",
         "1551659.28",
         "0",
         "58.74",
         "2.689",
         "211.9563939",
         "7.838"
        ],
        [
         "40",
         "1",
         "1494479.49",
         "0",
         "59.61",
         "2.728",
         "212.003944",
         "7.838"
        ],
        [
         "41",
         "1",
         "1483784.18",
         "0",
         "51.41",
         "2.771",
         "211.8896737",
         "7.838"
        ],
        [
         "42",
         "1",
         "1955624.11",
         "1",
         "64.52",
         "2.735",
         "211.7484333",
         "7.838"
        ],
        [
         "43",
         "1",
         "1548033.78",
         "0",
         "49.27",
         "2.708",
         "211.607193",
         "7.838"
        ],
        [
         "44",
         "1",
         "1682614.26",
         "0",
         "46.33",
         "2.843",
         "211.4659526",
         "7.838"
        ],
        [
         "45",
         "1",
         "1891034.93",
         "0",
         "49.84",
         "2.869",
         "211.4053124",
         "7.838"
        ],
        [
         "46",
         "1",
         "2387950.2",
         "0",
         "52.33",
         "2.886",
         "211.4051222",
         "7.838"
        ],
        [
         "47",
         "1",
         "1367320.01",
         "1",
         "48.43",
         "2.943",
         "211.4049321",
         "7.838"
        ],
        [
         "48",
         "1",
         "1444732.28",
         "0",
         "48.27",
         "2.976",
         "211.4047419",
         "7.742"
        ],
        [
         "49",
         "1",
         "1391013.96",
         "0",
         "35.4",
         "2.983",
         "211.4574109",
         "7.742"
        ]
       ],
       "shape": {
        "columns": 7,
        "rows": 6435
       }
      },
      "text/html": [
       "<div>\n",
       "<style scoped>\n",
       "    .dataframe tbody tr th:only-of-type {\n",
       "        vertical-align: middle;\n",
       "    }\n",
       "\n",
       "    .dataframe tbody tr th {\n",
       "        vertical-align: top;\n",
       "    }\n",
       "\n",
       "    .dataframe thead th {\n",
       "        text-align: right;\n",
       "    }\n",
       "</style>\n",
       "<table border=\"1\" class=\"dataframe\">\n",
       "  <thead>\n",
       "    <tr style=\"text-align: right;\">\n",
       "      <th></th>\n",
       "      <th>Store</th>\n",
       "      <th>Weekly_Sales</th>\n",
       "      <th>Holiday_Flag</th>\n",
       "      <th>Temperature</th>\n",
       "      <th>Fuel_Price</th>\n",
       "      <th>CPI</th>\n",
       "      <th>Unemployment</th>\n",
       "    </tr>\n",
       "  </thead>\n",
       "  <tbody>\n",
       "    <tr>\n",
       "      <th>0</th>\n",
       "      <td>1</td>\n",
       "      <td>1643690.90</td>\n",
       "      <td>0</td>\n",
       "      <td>42.31</td>\n",
       "      <td>2.572</td>\n",
       "      <td>211.096358</td>\n",
       "      <td>8.106</td>\n",
       "    </tr>\n",
       "    <tr>\n",
       "      <th>1</th>\n",
       "      <td>1</td>\n",
       "      <td>1641957.44</td>\n",
       "      <td>1</td>\n",
       "      <td>38.51</td>\n",
       "      <td>2.548</td>\n",
       "      <td>211.242170</td>\n",
       "      <td>8.106</td>\n",
       "    </tr>\n",
       "    <tr>\n",
       "      <th>2</th>\n",
       "      <td>1</td>\n",
       "      <td>1611968.17</td>\n",
       "      <td>0</td>\n",
       "      <td>39.93</td>\n",
       "      <td>2.514</td>\n",
       "      <td>211.289143</td>\n",
       "      <td>8.106</td>\n",
       "    </tr>\n",
       "    <tr>\n",
       "      <th>3</th>\n",
       "      <td>1</td>\n",
       "      <td>1409727.59</td>\n",
       "      <td>0</td>\n",
       "      <td>46.63</td>\n",
       "      <td>2.561</td>\n",
       "      <td>211.319643</td>\n",
       "      <td>8.106</td>\n",
       "    </tr>\n",
       "    <tr>\n",
       "      <th>4</th>\n",
       "      <td>1</td>\n",
       "      <td>1554806.68</td>\n",
       "      <td>0</td>\n",
       "      <td>46.50</td>\n",
       "      <td>2.625</td>\n",
       "      <td>211.350143</td>\n",
       "      <td>8.106</td>\n",
       "    </tr>\n",
       "    <tr>\n",
       "      <th>...</th>\n",
       "      <td>...</td>\n",
       "      <td>...</td>\n",
       "      <td>...</td>\n",
       "      <td>...</td>\n",
       "      <td>...</td>\n",
       "      <td>...</td>\n",
       "      <td>...</td>\n",
       "    </tr>\n",
       "    <tr>\n",
       "      <th>6430</th>\n",
       "      <td>45</td>\n",
       "      <td>713173.95</td>\n",
       "      <td>0</td>\n",
       "      <td>64.88</td>\n",
       "      <td>3.997</td>\n",
       "      <td>192.013558</td>\n",
       "      <td>8.684</td>\n",
       "    </tr>\n",
       "    <tr>\n",
       "      <th>6431</th>\n",
       "      <td>45</td>\n",
       "      <td>733455.07</td>\n",
       "      <td>0</td>\n",
       "      <td>64.89</td>\n",
       "      <td>3.985</td>\n",
       "      <td>192.170412</td>\n",
       "      <td>8.667</td>\n",
       "    </tr>\n",
       "    <tr>\n",
       "      <th>6432</th>\n",
       "      <td>45</td>\n",
       "      <td>734464.36</td>\n",
       "      <td>0</td>\n",
       "      <td>54.47</td>\n",
       "      <td>4.000</td>\n",
       "      <td>192.327265</td>\n",
       "      <td>8.667</td>\n",
       "    </tr>\n",
       "    <tr>\n",
       "      <th>6433</th>\n",
       "      <td>45</td>\n",
       "      <td>718125.53</td>\n",
       "      <td>0</td>\n",
       "      <td>56.47</td>\n",
       "      <td>3.969</td>\n",
       "      <td>192.330854</td>\n",
       "      <td>8.667</td>\n",
       "    </tr>\n",
       "    <tr>\n",
       "      <th>6434</th>\n",
       "      <td>45</td>\n",
       "      <td>760281.43</td>\n",
       "      <td>0</td>\n",
       "      <td>58.85</td>\n",
       "      <td>3.882</td>\n",
       "      <td>192.308899</td>\n",
       "      <td>8.667</td>\n",
       "    </tr>\n",
       "  </tbody>\n",
       "</table>\n",
       "<p>6435 rows × 7 columns</p>\n",
       "</div>"
      ],
      "text/plain": [
       "      Store  Weekly_Sales  Holiday_Flag  Temperature  Fuel_Price         CPI  \\\n",
       "0         1    1643690.90             0        42.31       2.572  211.096358   \n",
       "1         1    1641957.44             1        38.51       2.548  211.242170   \n",
       "2         1    1611968.17             0        39.93       2.514  211.289143   \n",
       "3         1    1409727.59             0        46.63       2.561  211.319643   \n",
       "4         1    1554806.68             0        46.50       2.625  211.350143   \n",
       "...     ...           ...           ...          ...         ...         ...   \n",
       "6430     45     713173.95             0        64.88       3.997  192.013558   \n",
       "6431     45     733455.07             0        64.89       3.985  192.170412   \n",
       "6432     45     734464.36             0        54.47       4.000  192.327265   \n",
       "6433     45     718125.53             0        56.47       3.969  192.330854   \n",
       "6434     45     760281.43             0        58.85       3.882  192.308899   \n",
       "\n",
       "      Unemployment  \n",
       "0            8.106  \n",
       "1            8.106  \n",
       "2            8.106  \n",
       "3            8.106  \n",
       "4            8.106  \n",
       "...            ...  \n",
       "6430         8.684  \n",
       "6431         8.667  \n",
       "6432         8.667  \n",
       "6433         8.667  \n",
       "6434         8.667  \n",
       "\n",
       "[6435 rows x 7 columns]"
      ]
     },
     "execution_count": 11,
     "metadata": {},
     "output_type": "execute_result"
    }
   ],
   "source": [
    "df"
   ]
  },
  {
   "cell_type": "code",
   "execution_count": 10,
   "id": "78b3cbca",
   "metadata": {},
   "outputs": [],
   "source": [
    "df.drop(\"Date\", axis=1, inplace=True)"
   ]
  },
  {
   "cell_type": "code",
   "execution_count": 12,
   "id": "09f95122",
   "metadata": {},
   "outputs": [
    {
     "data": {
      "application/vnd.microsoft.datawrangler.viewer.v0+json": {
       "columns": [
        {
         "name": "index",
         "rawType": "object",
         "type": "string"
        },
        {
         "name": "0",
         "rawType": "int64",
         "type": "integer"
        }
       ],
       "ref": "0be93eb1-a7d4-496e-be57-29287f79f6c4",
       "rows": [
        [
         "Store",
         "0"
        ],
        [
         "Weekly_Sales",
         "0"
        ],
        [
         "Holiday_Flag",
         "0"
        ],
        [
         "Temperature",
         "0"
        ],
        [
         "Fuel_Price",
         "0"
        ],
        [
         "CPI",
         "0"
        ],
        [
         "Unemployment",
         "0"
        ]
       ],
       "shape": {
        "columns": 1,
        "rows": 7
       }
      },
      "text/plain": [
       "Store           0\n",
       "Weekly_Sales    0\n",
       "Holiday_Flag    0\n",
       "Temperature     0\n",
       "Fuel_Price      0\n",
       "CPI             0\n",
       "Unemployment    0\n",
       "dtype: int64"
      ]
     },
     "execution_count": 12,
     "metadata": {},
     "output_type": "execute_result"
    }
   ],
   "source": [
    "df.isnull().sum()"
   ]
  },
  {
   "cell_type": "code",
   "execution_count": 13,
   "id": "d428eb19",
   "metadata": {},
   "outputs": [
    {
     "name": "stdout",
     "output_type": "stream",
     "text": [
      "<class 'pandas.core.frame.DataFrame'>\n",
      "RangeIndex: 6435 entries, 0 to 6434\n",
      "Data columns (total 7 columns):\n",
      " #   Column        Non-Null Count  Dtype  \n",
      "---  ------        --------------  -----  \n",
      " 0   Store         6435 non-null   int64  \n",
      " 1   Weekly_Sales  6435 non-null   float64\n",
      " 2   Holiday_Flag  6435 non-null   int64  \n",
      " 3   Temperature   6435 non-null   float64\n",
      " 4   Fuel_Price    6435 non-null   float64\n",
      " 5   CPI           6435 non-null   float64\n",
      " 6   Unemployment  6435 non-null   float64\n",
      "dtypes: float64(5), int64(2)\n",
      "memory usage: 352.0 KB\n"
     ]
    }
   ],
   "source": [
    "df.info()"
   ]
  },
  {
   "cell_type": "code",
   "execution_count": 15,
   "id": "5064f5f2",
   "metadata": {},
   "outputs": [
    {
     "data": {
      "text/plain": [
       "np.int64(0)"
      ]
     },
     "execution_count": 15,
     "metadata": {},
     "output_type": "execute_result"
    }
   ],
   "source": [
    "df.duplicated().sum()"
   ]
  },
  {
   "cell_type": "code",
   "execution_count": 17,
   "id": "07e5f284",
   "metadata": {},
   "outputs": [
    {
     "data": {
      "text/plain": [
       "<Axes: >"
      ]
     },
     "execution_count": 17,
     "metadata": {},
     "output_type": "execute_result"
    },
    {
     "data": {
      "image/png": "[encoded data removed]",
      "text/plain": [
       "<Figure size 1500x1000 with 2 Axes>"
      ]
     },
     "metadata": {},
     "output_type": "display_data"
    }
   ],
   "source": [
    "plt.figure(figsize=(15,10))\n",
    "sns.heatmap(df.corr(), annot=True)"
   ]
  },
  {
   "cell_type": "code",
   "execution_count": 18,
   "id": "470563c6",
   "metadata": {},
   "outputs": [],
   "source": [
    "df.to_csv(\"data/main_dataset_cleaned.csv\", index_label=False)"
   ]
  },
  {
   "cell_type": "code",
   "execution_count": null,
   "id": "24c34aa3",
   "metadata": {},
   "outputs": [],
   "source": []
  }
 ],
 "metadata": {
  "kernelspec": {
   "display_name": "Python 3",
   "language": "python",
   "name": "python3"
  },
  "language_info": {
   "codemirror_mode": {
    "name": "ipython",
    "version": 3
   },
   "file_extension": ".py",
   "mimetype": "text/x-python",
   "name": "python",
   "nbconvert_exporter": "python",
   "pygments_lexer": "ipython3",
   "version": "3.13.4"
  }
 },
 "nbformat": 4,
 "nbformat_minor": 5
}
